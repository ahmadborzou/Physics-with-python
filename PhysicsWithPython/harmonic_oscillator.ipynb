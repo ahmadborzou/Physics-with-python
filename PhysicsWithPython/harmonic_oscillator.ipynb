{
 "cells": [
  {
   "cell_type": "markdown",
   "metadata": {},
   "source": [
    "====================================\n",
    "##### author: Ahmad Borzou\n",
    "##### email: ahmad_borzou@baylor.edu\n",
    "##### affiliation: Baylor University\n",
    "##### twitter: @ahmadborzou\n",
    "##### webpage: http://sites.baylor.edu/ahmad_borzou/\n",
    "===================================="
   ]
  },
  {
   "cell_type": "markdown",
   "metadata": {},
   "source": [
    "# solving a simple harmonic oscillator\n",
    "\n",
    "We would like to find the position and speed of a ball attached to a spring with constant $k$. According to Hooke's law the force applied to the ball by the spring is $F=-kx$. Also, Newton's law says $F=m\\frac{d^2x}{dt^2}$. \n",
    "Therefore, we need to solve\n",
    "$m\\frac{d^2x}{dt^2} = -k x$"
   ]
  },
  {
   "cell_type": "code",
   "execution_count": 1,
   "metadata": {},
   "outputs": [
    {
     "data": {
      "text/html": [
       "\n",
       "    <div class=\"bk-root\">\n",
       "        <a href=\"https://bokeh.pydata.org\" target=\"_blank\" class=\"bk-logo bk-logo-small bk-logo-notebook\"></a>\n",
       "        <span id=\"44070d6e-c764-441b-80ae-2561ff9ba5c5\">Loading BokehJS ...</span>\n",
       "    </div>"
      ]
     },
     "metadata": {},
     "output_type": "display_data"
    },
    {
     "data": {
      "application/javascript": [
       "\n",
       "(function(root) {\n",
       "  function now() {\n",
       "    return new Date();\n",
       "  }\n",
       "\n",
       "  var force = true;\n",
       "\n",
       "  if (typeof (root._bokeh_onload_callbacks) === \"undefined\" || force === true) {\n",
       "    root._bokeh_onload_callbacks = [];\n",
       "    root._bokeh_is_loading = undefined;\n",
       "  }\n",
       "\n",
       "  var JS_MIME_TYPE = 'application/javascript';\n",
       "  var HTML_MIME_TYPE = 'text/html';\n",
       "  var EXEC_MIME_TYPE = 'application/vnd.bokehjs_exec.v0+json';\n",
       "  var CLASS_NAME = 'output_bokeh rendered_html';\n",
       "\n",
       "  /**\n",
       "   * Render data to the DOM node\n",
       "   */\n",
       "  function render(props, node) {\n",
       "    var script = document.createElement(\"script\");\n",
       "    node.appendChild(script);\n",
       "  }\n",
       "\n",
       "  /**\n",
       "   * Handle when an output is cleared or removed\n",
       "   */\n",
       "  function handleClearOutput(event, handle) {\n",
       "    var cell = handle.cell;\n",
       "\n",
       "    var id = cell.output_area._bokeh_element_id;\n",
       "    var server_id = cell.output_area._bokeh_server_id;\n",
       "    // Clean up Bokeh references\n",
       "    if (id != null && id in Bokeh.index) {\n",
       "      Bokeh.index[id].model.document.clear();\n",
       "      delete Bokeh.index[id];\n",
       "    }\n",
       "\n",
       "    if (server_id !== undefined) {\n",
       "      // Clean up Bokeh references\n",
       "      var cmd = \"from bokeh.io.state import curstate; print(curstate().uuid_to_server['\" + server_id + \"'].get_sessions()[0].document.roots[0]._id)\";\n",
       "      cell.notebook.kernel.execute(cmd, {\n",
       "        iopub: {\n",
       "          output: function(msg) {\n",
       "            var id = msg.content.text.trim();\n",
       "            if (id in Bokeh.index) {\n",
       "              Bokeh.index[id].model.document.clear();\n",
       "              delete Bokeh.index[id];\n",
       "            }\n",
       "          }\n",
       "        }\n",
       "      });\n",
       "      // Destroy server and session\n",
       "      var cmd = \"import bokeh.io.notebook as ion; ion.destroy_server('\" + server_id + \"')\";\n",
       "      cell.notebook.kernel.execute(cmd);\n",
       "    }\n",
       "  }\n",
       "\n",
       "  /**\n",
       "   * Handle when a new output is added\n",
       "   */\n",
       "  function handleAddOutput(event, handle) {\n",
       "    var output_area = handle.output_area;\n",
       "    var output = handle.output;\n",
       "\n",
       "    // limit handleAddOutput to display_data with EXEC_MIME_TYPE content only\n",
       "    if ((output.output_type != \"display_data\") || (!output.data.hasOwnProperty(EXEC_MIME_TYPE))) {\n",
       "      return\n",
       "    }\n",
       "\n",
       "    var toinsert = output_area.element.find(\".\" + CLASS_NAME.split(' ')[0]);\n",
       "\n",
       "    if (output.metadata[EXEC_MIME_TYPE][\"id\"] !== undefined) {\n",
       "      toinsert[toinsert.length - 1].firstChild.textContent = output.data[JS_MIME_TYPE];\n",
       "      // store reference to embed id on output_area\n",
       "      output_area._bokeh_element_id = output.metadata[EXEC_MIME_TYPE][\"id\"];\n",
       "    }\n",
       "    if (output.metadata[EXEC_MIME_TYPE][\"server_id\"] !== undefined) {\n",
       "      var bk_div = document.createElement(\"div\");\n",
       "      bk_div.innerHTML = output.data[HTML_MIME_TYPE];\n",
       "      var script_attrs = bk_div.children[0].attributes;\n",
       "      for (var i = 0; i < script_attrs.length; i++) {\n",
       "        toinsert[toinsert.length - 1].firstChild.setAttribute(script_attrs[i].name, script_attrs[i].value);\n",
       "      }\n",
       "      // store reference to server id on output_area\n",
       "      output_area._bokeh_server_id = output.metadata[EXEC_MIME_TYPE][\"server_id\"];\n",
       "    }\n",
       "  }\n",
       "\n",
       "  function register_renderer(events, OutputArea) {\n",
       "\n",
       "    function append_mime(data, metadata, element) {\n",
       "      // create a DOM node to render to\n",
       "      var toinsert = this.create_output_subarea(\n",
       "        metadata,\n",
       "        CLASS_NAME,\n",
       "        EXEC_MIME_TYPE\n",
       "      );\n",
       "      this.keyboard_manager.register_events(toinsert);\n",
       "      // Render to node\n",
       "      var props = {data: data, metadata: metadata[EXEC_MIME_TYPE]};\n",
       "      render(props, toinsert[toinsert.length - 1]);\n",
       "      element.append(toinsert);\n",
       "      return toinsert\n",
       "    }\n",
       "\n",
       "    /* Handle when an output is cleared or removed */\n",
       "    events.on('clear_output.CodeCell', handleClearOutput);\n",
       "    events.on('delete.Cell', handleClearOutput);\n",
       "\n",
       "    /* Handle when a new output is added */\n",
       "    events.on('output_added.OutputArea', handleAddOutput);\n",
       "\n",
       "    /**\n",
       "     * Register the mime type and append_mime function with output_area\n",
       "     */\n",
       "    OutputArea.prototype.register_mime_type(EXEC_MIME_TYPE, append_mime, {\n",
       "      /* Is output safe? */\n",
       "      safe: true,\n",
       "      /* Index of renderer in `output_area.display_order` */\n",
       "      index: 0\n",
       "    });\n",
       "  }\n",
       "\n",
       "  // register the mime type if in Jupyter Notebook environment and previously unregistered\n",
       "  if (root.Jupyter !== undefined) {\n",
       "    var events = require('base/js/events');\n",
       "    var OutputArea = require('notebook/js/outputarea').OutputArea;\n",
       "\n",
       "    if (OutputArea.prototype.mime_types().indexOf(EXEC_MIME_TYPE) == -1) {\n",
       "      register_renderer(events, OutputArea);\n",
       "    }\n",
       "  }\n",
       "\n",
       "  \n",
       "  if (typeof (root._bokeh_timeout) === \"undefined\" || force === true) {\n",
       "    root._bokeh_timeout = Date.now() + 5000;\n",
       "    root._bokeh_failed_load = false;\n",
       "  }\n",
       "\n",
       "  var NB_LOAD_WARNING = {'data': {'text/html':\n",
       "     \"<div style='background-color: #fdd'>\\n\"+\n",
       "     \"<p>\\n\"+\n",
       "     \"BokehJS does not appear to have successfully loaded. If loading BokehJS from CDN, this \\n\"+\n",
       "     \"may be due to a slow or bad network connection. Possible fixes:\\n\"+\n",
       "     \"</p>\\n\"+\n",
       "     \"<ul>\\n\"+\n",
       "     \"<li>re-rerun `output_notebook()` to attempt to load from CDN again, or</li>\\n\"+\n",
       "     \"<li>use INLINE resources instead, as so:</li>\\n\"+\n",
       "     \"</ul>\\n\"+\n",
       "     \"<code>\\n\"+\n",
       "     \"from bokeh.resources import INLINE\\n\"+\n",
       "     \"output_notebook(resources=INLINE)\\n\"+\n",
       "     \"</code>\\n\"+\n",
       "     \"</div>\"}};\n",
       "\n",
       "  function display_loaded() {\n",
       "    var el = document.getElementById(\"44070d6e-c764-441b-80ae-2561ff9ba5c5\");\n",
       "    if (el != null) {\n",
       "      el.textContent = \"BokehJS is loading...\";\n",
       "    }\n",
       "    if (root.Bokeh !== undefined) {\n",
       "      if (el != null) {\n",
       "        el.textContent = \"BokehJS \" + root.Bokeh.version + \" successfully loaded.\";\n",
       "      }\n",
       "    } else if (Date.now() < root._bokeh_timeout) {\n",
       "      setTimeout(display_loaded, 100)\n",
       "    }\n",
       "  }\n",
       "\n",
       "\n",
       "  function run_callbacks() {\n",
       "    try {\n",
       "      root._bokeh_onload_callbacks.forEach(function(callback) { callback() });\n",
       "    }\n",
       "    finally {\n",
       "      delete root._bokeh_onload_callbacks\n",
       "    }\n",
       "    console.info(\"Bokeh: all callbacks have finished\");\n",
       "  }\n",
       "\n",
       "  function load_libs(js_urls, callback) {\n",
       "    root._bokeh_onload_callbacks.push(callback);\n",
       "    if (root._bokeh_is_loading > 0) {\n",
       "      console.log(\"Bokeh: BokehJS is being loaded, scheduling callback at\", now());\n",
       "      return null;\n",
       "    }\n",
       "    if (js_urls == null || js_urls.length === 0) {\n",
       "      run_callbacks();\n",
       "      return null;\n",
       "    }\n",
       "    console.log(\"Bokeh: BokehJS not loaded, scheduling load and callback at\", now());\n",
       "    root._bokeh_is_loading = js_urls.length;\n",
       "    for (var i = 0; i < js_urls.length; i++) {\n",
       "      var url = js_urls[i];\n",
       "      var s = document.createElement('script');\n",
       "      s.src = url;\n",
       "      s.async = false;\n",
       "      s.onreadystatechange = s.onload = function() {\n",
       "        root._bokeh_is_loading--;\n",
       "        if (root._bokeh_is_loading === 0) {\n",
       "          console.log(\"Bokeh: all BokehJS libraries loaded\");\n",
       "          run_callbacks()\n",
       "        }\n",
       "      };\n",
       "      s.onerror = function() {\n",
       "        console.warn(\"failed to load library \" + url);\n",
       "      };\n",
       "      console.log(\"Bokeh: injecting script tag for BokehJS library: \", url);\n",
       "      document.getElementsByTagName(\"head\")[0].appendChild(s);\n",
       "    }\n",
       "  };var element = document.getElementById(\"44070d6e-c764-441b-80ae-2561ff9ba5c5\");\n",
       "  if (element == null) {\n",
       "    console.log(\"Bokeh: ERROR: autoload.js configured with elementid '44070d6e-c764-441b-80ae-2561ff9ba5c5' but no matching script tag was found. \")\n",
       "    return false;\n",
       "  }\n",
       "\n",
       "  var js_urls = [\"https://cdn.pydata.org/bokeh/release/bokeh-0.13.0.min.js\", \"https://cdn.pydata.org/bokeh/release/bokeh-widgets-0.13.0.min.js\", \"https://cdn.pydata.org/bokeh/release/bokeh-tables-0.13.0.min.js\", \"https://cdn.pydata.org/bokeh/release/bokeh-gl-0.13.0.min.js\"];\n",
       "\n",
       "  var inline_js = [\n",
       "    function(Bokeh) {\n",
       "      Bokeh.set_log_level(\"info\");\n",
       "    },\n",
       "    \n",
       "    function(Bokeh) {\n",
       "      \n",
       "    },\n",
       "    function(Bokeh) {\n",
       "      console.log(\"Bokeh: injecting CSS: https://cdn.pydata.org/bokeh/release/bokeh-0.13.0.min.css\");\n",
       "      Bokeh.embed.inject_css(\"https://cdn.pydata.org/bokeh/release/bokeh-0.13.0.min.css\");\n",
       "      console.log(\"Bokeh: injecting CSS: https://cdn.pydata.org/bokeh/release/bokeh-widgets-0.13.0.min.css\");\n",
       "      Bokeh.embed.inject_css(\"https://cdn.pydata.org/bokeh/release/bokeh-widgets-0.13.0.min.css\");\n",
       "      console.log(\"Bokeh: injecting CSS: https://cdn.pydata.org/bokeh/release/bokeh-tables-0.13.0.min.css\");\n",
       "      Bokeh.embed.inject_css(\"https://cdn.pydata.org/bokeh/release/bokeh-tables-0.13.0.min.css\");\n",
       "    }\n",
       "  ];\n",
       "\n",
       "  function run_inline_js() {\n",
       "    \n",
       "    if ((root.Bokeh !== undefined) || (force === true)) {\n",
       "      for (var i = 0; i < inline_js.length; i++) {\n",
       "        inline_js[i].call(root, root.Bokeh);\n",
       "      }if (force === true) {\n",
       "        display_loaded();\n",
       "      }} else if (Date.now() < root._bokeh_timeout) {\n",
       "      setTimeout(run_inline_js, 100);\n",
       "    } else if (!root._bokeh_failed_load) {\n",
       "      console.log(\"Bokeh: BokehJS failed to load within specified timeout.\");\n",
       "      root._bokeh_failed_load = true;\n",
       "    } else if (force !== true) {\n",
       "      var cell = $(document.getElementById(\"44070d6e-c764-441b-80ae-2561ff9ba5c5\")).parents('.cell').data().cell;\n",
       "      cell.output_area.append_execute_result(NB_LOAD_WARNING)\n",
       "    }\n",
       "\n",
       "  }\n",
       "\n",
       "  if (root._bokeh_is_loading === 0) {\n",
       "    console.log(\"Bokeh: BokehJS loaded, going straight to plotting\");\n",
       "    run_inline_js();\n",
       "  } else {\n",
       "    load_libs(js_urls, function() {\n",
       "      console.log(\"Bokeh: BokehJS plotting callback run at\", now());\n",
       "      run_inline_js();\n",
       "    });\n",
       "  }\n",
       "}(window));"
      ],
      "application/vnd.bokehjs_load.v0+json": "\n(function(root) {\n  function now() {\n    return new Date();\n  }\n\n  var force = true;\n\n  if (typeof (root._bokeh_onload_callbacks) === \"undefined\" || force === true) {\n    root._bokeh_onload_callbacks = [];\n    root._bokeh_is_loading = undefined;\n  }\n\n  \n\n  \n  if (typeof (root._bokeh_timeout) === \"undefined\" || force === true) {\n    root._bokeh_timeout = Date.now() + 5000;\n    root._bokeh_failed_load = false;\n  }\n\n  var NB_LOAD_WARNING = {'data': {'text/html':\n     \"<div style='background-color: #fdd'>\\n\"+\n     \"<p>\\n\"+\n     \"BokehJS does not appear to have successfully loaded. If loading BokehJS from CDN, this \\n\"+\n     \"may be due to a slow or bad network connection. Possible fixes:\\n\"+\n     \"</p>\\n\"+\n     \"<ul>\\n\"+\n     \"<li>re-rerun `output_notebook()` to attempt to load from CDN again, or</li>\\n\"+\n     \"<li>use INLINE resources instead, as so:</li>\\n\"+\n     \"</ul>\\n\"+\n     \"<code>\\n\"+\n     \"from bokeh.resources import INLINE\\n\"+\n     \"output_notebook(resources=INLINE)\\n\"+\n     \"</code>\\n\"+\n     \"</div>\"}};\n\n  function display_loaded() {\n    var el = document.getElementById(\"44070d6e-c764-441b-80ae-2561ff9ba5c5\");\n    if (el != null) {\n      el.textContent = \"BokehJS is loading...\";\n    }\n    if (root.Bokeh !== undefined) {\n      if (el != null) {\n        el.textContent = \"BokehJS \" + root.Bokeh.version + \" successfully loaded.\";\n      }\n    } else if (Date.now() < root._bokeh_timeout) {\n      setTimeout(display_loaded, 100)\n    }\n  }\n\n\n  function run_callbacks() {\n    try {\n      root._bokeh_onload_callbacks.forEach(function(callback) { callback() });\n    }\n    finally {\n      delete root._bokeh_onload_callbacks\n    }\n    console.info(\"Bokeh: all callbacks have finished\");\n  }\n\n  function load_libs(js_urls, callback) {\n    root._bokeh_onload_callbacks.push(callback);\n    if (root._bokeh_is_loading > 0) {\n      console.log(\"Bokeh: BokehJS is being loaded, scheduling callback at\", now());\n      return null;\n    }\n    if (js_urls == null || js_urls.length === 0) {\n      run_callbacks();\n      return null;\n    }\n    console.log(\"Bokeh: BokehJS not loaded, scheduling load and callback at\", now());\n    root._bokeh_is_loading = js_urls.length;\n    for (var i = 0; i < js_urls.length; i++) {\n      var url = js_urls[i];\n      var s = document.createElement('script');\n      s.src = url;\n      s.async = false;\n      s.onreadystatechange = s.onload = function() {\n        root._bokeh_is_loading--;\n        if (root._bokeh_is_loading === 0) {\n          console.log(\"Bokeh: all BokehJS libraries loaded\");\n          run_callbacks()\n        }\n      };\n      s.onerror = function() {\n        console.warn(\"failed to load library \" + url);\n      };\n      console.log(\"Bokeh: injecting script tag for BokehJS library: \", url);\n      document.getElementsByTagName(\"head\")[0].appendChild(s);\n    }\n  };var element = document.getElementById(\"44070d6e-c764-441b-80ae-2561ff9ba5c5\");\n  if (element == null) {\n    console.log(\"Bokeh: ERROR: autoload.js configured with elementid '44070d6e-c764-441b-80ae-2561ff9ba5c5' but no matching script tag was found. \")\n    return false;\n  }\n\n  var js_urls = [\"https://cdn.pydata.org/bokeh/release/bokeh-0.13.0.min.js\", \"https://cdn.pydata.org/bokeh/release/bokeh-widgets-0.13.0.min.js\", \"https://cdn.pydata.org/bokeh/release/bokeh-tables-0.13.0.min.js\", \"https://cdn.pydata.org/bokeh/release/bokeh-gl-0.13.0.min.js\"];\n\n  var inline_js = [\n    function(Bokeh) {\n      Bokeh.set_log_level(\"info\");\n    },\n    \n    function(Bokeh) {\n      \n    },\n    function(Bokeh) {\n      console.log(\"Bokeh: injecting CSS: https://cdn.pydata.org/bokeh/release/bokeh-0.13.0.min.css\");\n      Bokeh.embed.inject_css(\"https://cdn.pydata.org/bokeh/release/bokeh-0.13.0.min.css\");\n      console.log(\"Bokeh: injecting CSS: https://cdn.pydata.org/bokeh/release/bokeh-widgets-0.13.0.min.css\");\n      Bokeh.embed.inject_css(\"https://cdn.pydata.org/bokeh/release/bokeh-widgets-0.13.0.min.css\");\n      console.log(\"Bokeh: injecting CSS: https://cdn.pydata.org/bokeh/release/bokeh-tables-0.13.0.min.css\");\n      Bokeh.embed.inject_css(\"https://cdn.pydata.org/bokeh/release/bokeh-tables-0.13.0.min.css\");\n    }\n  ];\n\n  function run_inline_js() {\n    \n    if ((root.Bokeh !== undefined) || (force === true)) {\n      for (var i = 0; i < inline_js.length; i++) {\n        inline_js[i].call(root, root.Bokeh);\n      }if (force === true) {\n        display_loaded();\n      }} else if (Date.now() < root._bokeh_timeout) {\n      setTimeout(run_inline_js, 100);\n    } else if (!root._bokeh_failed_load) {\n      console.log(\"Bokeh: BokehJS failed to load within specified timeout.\");\n      root._bokeh_failed_load = true;\n    } else if (force !== true) {\n      var cell = $(document.getElementById(\"44070d6e-c764-441b-80ae-2561ff9ba5c5\")).parents('.cell').data().cell;\n      cell.output_area.append_execute_result(NB_LOAD_WARNING)\n    }\n\n  }\n\n  if (root._bokeh_is_loading === 0) {\n    console.log(\"Bokeh: BokehJS loaded, going straight to plotting\");\n    run_inline_js();\n  } else {\n    load_libs(js_urls, function() {\n      console.log(\"Bokeh: BokehJS plotting callback run at\", now());\n      run_inline_js();\n    });\n  }\n}(window));"
     },
     "metadata": {},
     "output_type": "display_data"
    }
   ],
   "source": [
    "## import the packages\n",
    "import numpy as np\n",
    "\n",
    "import sympy as sp\n",
    "sp.init_printing()\n",
    "\n",
    "from IPython.display import display\n",
    "\n",
    "from bokeh.io import show, output_notebook, curdoc\n",
    "from bokeh.plotting import figure\n",
    "from bokeh.layouts import row,column, widgetbox\n",
    "from bokeh.models import ColumnDataSource\n",
    "from bokeh.models.widgets import Slider, Button, Paragraph\n",
    "\n",
    "output_notebook()"
   ]
  },
  {
   "cell_type": "code",
   "execution_count": 2,
   "metadata": {
    "collapsed": true
   },
   "outputs": [],
   "source": [
    "## introduce the symbols for analytic solution\n",
    "x = sp.symbols('x',cls=sp.Function,real=True)\n",
    "m,t,k = sp.symbols('m,t,k',real=True,positive=True)"
   ]
  },
  {
   "cell_type": "code",
   "execution_count": 3,
   "metadata": {},
   "outputs": [
    {
     "data": {
      "image/png": "[encoded data removed]",
      "text/latex": [
       "$$k x{\\left (t \\right )} + m \\frac{d^{2}}{d t^{2}} x{\\left (t \\right )}$$"
      ],
      "text/plain": [
       "             2      \n",
       "            d       \n",
       "k⋅x(t) + m⋅───(x(t))\n",
       "             2      \n",
       "           dt       "
      ]
     },
     "metadata": {},
     "output_type": "display_data"
    }
   ],
   "source": [
    "## Newton's law \n",
    "eq = m*sp.diff(x(t),t,2) + k*x(t)\n",
    "display(eq)"
   ]
  },
  {
   "cell_type": "markdown",
   "metadata": {},
   "source": [
    "This is the same equation as above. The right hand side of the equation is 0."
   ]
  },
  {
   "cell_type": "code",
   "execution_count": 4,
   "metadata": {},
   "outputs": [
    {
     "data": {
      "image/png": "[encoded data removed]",
      "text/latex": [
       "$$C_{1} \\sin{\\left (\\frac{\\sqrt{k} t}{\\sqrt{m}} \\right )} + C_{2} \\cos{\\left (\\frac{\\sqrt{k} t}{\\sqrt{m}} \\right )}$$"
      ],
      "text/plain": [
       "      ⎛√k⋅t⎞         ⎛√k⋅t⎞\n",
       "C₁⋅sin⎜────⎟ + C₂⋅cos⎜────⎟\n",
       "      ⎝ √m ⎠         ⎝ √m ⎠"
      ]
     },
     "execution_count": 4,
     "metadata": {},
     "output_type": "execute_result"
    }
   ],
   "source": [
    "## get the solution\n",
    "x_ = sp.dsolve(eq).rhs\n",
    "x_"
   ]
  },
  {
   "cell_type": "markdown",
   "metadata": {},
   "source": [
    "The speed is $v=\\frac{dx}{dt}$"
   ]
  },
  {
   "cell_type": "code",
   "execution_count": 5,
   "metadata": {},
   "outputs": [
    {
     "data": {
      "image/png": "[encoded data removed]",
      "text/latex": [
       "$$\\frac{C_{1} \\sqrt{k} \\cos{\\left (\\frac{\\sqrt{k} t}{\\sqrt{m}} \\right )}}{\\sqrt{m}} - \\frac{C_{2} \\sqrt{k} \\sin{\\left (\\frac{\\sqrt{k} t}{\\sqrt{m}} \\right )}}{\\sqrt{m}}$$"
      ],
      "text/plain": [
       "         ⎛√k⋅t⎞            ⎛√k⋅t⎞\n",
       "C₁⋅√k⋅cos⎜────⎟   C₂⋅√k⋅sin⎜────⎟\n",
       "         ⎝ √m ⎠            ⎝ √m ⎠\n",
       "─────────────── - ───────────────\n",
       "       √m                √m      "
      ]
     },
     "execution_count": 5,
     "metadata": {},
     "output_type": "execute_result"
    }
   ],
   "source": [
    "## the speed\n",
    "v_ = sp.diff(x_,t)\n",
    "v_"
   ]
  },
  {
   "cell_type": "markdown",
   "metadata": {},
   "source": [
    "To move forward we need to determince $C_1$ and $C_2$ with initial conditions. Lets assume the ball is at $x=0$ at $t=0$ and maximum distance that the ball can go is 10."
   ]
  },
  {
   "cell_type": "code",
   "execution_count": 6,
   "metadata": {
    "scrolled": true
   },
   "outputs": [
    {
     "data": {
      "image/png": "[encoded data removed]",
      "text/latex": [
       "$$\\left [ \\left \\{ C_{2} : 0\\right \\}\\right ]$$"
      ],
      "text/plain": [
       "[{C₂: 0}]"
      ]
     },
     "metadata": {},
     "output_type": "display_data"
    }
   ],
   "source": [
    "## solve the first initial condition\n",
    "c1,c2 = sp.symbols('C1,C2')\n",
    "consts = sp.solve([x_.subs(t,0)],[c1,c2],dict=True)\n",
    "display(consts)"
   ]
  },
  {
   "cell_type": "code",
   "execution_count": 7,
   "metadata": {},
   "outputs": [
    {
     "data": {
      "image/png": "[encoded data removed]",
      "text/latex": [
       "$$C_{1} \\sin{\\left (\\frac{\\sqrt{k} t}{\\sqrt{m}} \\right )}$$"
      ],
      "text/plain": [
       "      ⎛√k⋅t⎞\n",
       "C₁⋅sin⎜────⎟\n",
       "      ⎝ √m ⎠"
      ]
     },
     "metadata": {},
     "output_type": "display_data"
    },
    {
     "data": {
      "image/png": "[encoded data removed]",
      "text/latex": [
       "$$\\frac{C_{1} \\sqrt{k} \\cos{\\left (\\frac{\\sqrt{k} t}{\\sqrt{m}} \\right )}}{\\sqrt{m}}$$"
      ],
      "text/plain": [
       "         ⎛√k⋅t⎞\n",
       "C₁⋅√k⋅cos⎜────⎟\n",
       "         ⎝ √m ⎠\n",
       "───────────────\n",
       "       √m      "
      ]
     },
     "metadata": {},
     "output_type": "display_data"
    }
   ],
   "source": [
    "## substitute the constant \n",
    "x_ = x_.subs(c2,0)\n",
    "v_ = v_.subs(c2,0)\n",
    "display(x_)\n",
    "display(v_)"
   ]
  },
  {
   "cell_type": "markdown",
   "metadata": {
    "scrolled": true
   },
   "source": [
    "the second initial condition implies that $C_1 = 10$"
   ]
  },
  {
   "cell_type": "code",
   "execution_count": 8,
   "metadata": {
    "collapsed": true
   },
   "outputs": [],
   "source": [
    "x_ = x_.subs(c1,10)\n",
    "v_ = v_.subs(c1,10)"
   ]
  },
  {
   "cell_type": "code",
   "execution_count": 9,
   "metadata": {},
   "outputs": [
    {
     "data": {
      "image/png": "[encoded data removed]",
      "text/latex": [
       "$$10 \\sin{\\left (\\frac{\\sqrt{k} t}{\\sqrt{m}} \\right )}$$"
      ],
      "text/plain": [
       "      ⎛√k⋅t⎞\n",
       "10⋅sin⎜────⎟\n",
       "      ⎝ √m ⎠"
      ]
     },
     "metadata": {},
     "output_type": "display_data"
    },
    {
     "data": {
      "image/png": "[encoded data removed]",
      "text/latex": [
       "$$\\frac{10 \\sqrt{k} \\cos{\\left (\\frac{\\sqrt{k} t}{\\sqrt{m}} \\right )}}{\\sqrt{m}}$$"
      ],
      "text/plain": [
       "         ⎛√k⋅t⎞\n",
       "10⋅√k⋅cos⎜────⎟\n",
       "         ⎝ √m ⎠\n",
       "───────────────\n",
       "       √m      "
      ]
     },
     "metadata": {},
     "output_type": "display_data"
    }
   ],
   "source": [
    "display(x_)\n",
    "display(v_)"
   ]
  },
  {
   "cell_type": "code",
   "execution_count": 10,
   "metadata": {
    "collapsed": true
   },
   "outputs": [],
   "source": [
    "## convert analytic solutions to numeric ones\n",
    "x = sp.lambdify((m,k,t),x_)\n",
    "v = sp.lambdify((m,k,t),v_)"
   ]
  },
  {
   "cell_type": "markdown",
   "metadata": {},
   "source": [
    "angular frequency is $\\omega = \\sqrt{\\frac{k}{m}} = 2\\pi \\nu = \\frac{2\\pi}{T}$ where $\\nu$ is the frequency\n",
    "and the period is\n",
    "$T = 2\\pi \\sqrt{\\frac{m}{k}}$"
   ]
  },
  {
   "cell_type": "code",
   "execution_count": 11,
   "metadata": {},
   "outputs": [
    {
     "data": {
      "text/html": [
       "\n",
       "\n",
       "\n",
       "\n",
       "\n",
       "\n",
       "  <div class=\"bk-root\" id=\"4b4f8b8c-29b1-4466-90e7-733a754debcb\"></div>\n"
      ]
     },
     "metadata": {},
     "output_type": "display_data"
    },
    {
     "data": {
      "application/javascript": [
       "(function(root) {\n",
       "  function embed_document(root) {\n",
       "    \n",
       "  var docs_json = {\"c1342319-546c-426a-87ff-f3ca253ba775\":{\"roots\":{\"references\":[{\"attributes\":{},\"id\":\"55478ae5-9f66-438f-ba2b-473d043f58a1\",\"type\":\"Selection\"},{\"attributes\":{},\"id\":\"a9f2977d-7498-4485-aebb-a52980ceae82\",\"type\":\"Selection\"},{\"attributes\":{\"below\":[{\"id\":\"62cbe8af-97ba-47e2-9e87-a5b335ba0436\",\"type\":\"LinearAxis\"}],\"left\":[{\"id\":\"c01e6a5f-544a-4850-94ce-4373b689619b\",\"type\":\"LinearAxis\"}],\"plot_height\":300,\"plot_width\":800,\"renderers\":[{\"id\":\"62cbe8af-97ba-47e2-9e87-a5b335ba0436\",\"type\":\"LinearAxis\"},{\"id\":\"6636d90a-cc73-45ec-a7c4-24d823f0f6b2\",\"type\":\"Grid\"},{\"id\":\"c01e6a5f-544a-4850-94ce-4373b689619b\",\"type\":\"LinearAxis\"},{\"id\":\"9080baa1-c13e-4c1f-aff5-1f6ae553298a\",\"type\":\"Grid\"},{\"id\":\"e9f6c18a-7003-4dca-9677-d3ca2d684920\",\"type\":\"BoxAnnotation\"},{\"id\":\"008129fd-a1af-4b0f-a2b6-1bd0f579784d\",\"type\":\"Legend\"},{\"id\":\"0f7f1c0a-a302-4ca1-b327-7e50269232b8\",\"type\":\"GlyphRenderer\"},{\"id\":\"8d49929f-0aeb-4fd0-8ec2-4bfdcebf52df\",\"type\":\"GlyphRenderer\"},{\"id\":\"d2c2f640-c1b6-4037-94eb-96e04c850267\",\"type\":\"GlyphRenderer\"}],\"title\":{\"id\":\"a5b72628-078e-4667-8a14-419bad0bfb70\",\"type\":\"Title\"},\"toolbar\":{\"id\":\"19831eed-2ddc-4899-b4ba-57208a95feb0\",\"type\":\"Toolbar\"},\"x_range\":{\"id\":\"f63a2ed7-cfb9-4fe2-9410-edce306722ea\",\"type\":\"DataRange1d\"},\"x_scale\":{\"id\":\"a87eb5d5-527e-4268-83d6-82fd0ff60ebb\",\"type\":\"LinearScale\"},\"y_range\":{\"id\":\"06e1cc24-98b6-449b-9560-ea163105c086\",\"type\":\"Range1d\"},\"y_scale\":{\"id\":\"2e924135-cf02-454f-aeb2-2a10e691dbf2\",\"type\":\"LinearScale\"}},\"id\":\"678592de-bfff-4cf6-9794-fa3c7d8b86a1\",\"subtype\":\"Figure\",\"type\":\"Plot\"},{\"attributes\":{\"plot\":null,\"text\":\"\"},\"id\":\"a5b72628-078e-4667-8a14-419bad0bfb70\",\"type\":\"Title\"},{\"attributes\":{},\"id\":\"2e924135-cf02-454f-aeb2-2a10e691dbf2\",\"type\":\"LinearScale\"},{\"attributes\":{\"bottom\":{\"field\":\"bottom\"},\"fill_color\":{\"value\":\"black\"},\"top\":{\"field\":\"top\"},\"width\":{\"value\":0.05},\"x\":{\"field\":\"x\"}},\"id\":\"6b9668eb-4e24-44b2-8476-9a774cd9a232\",\"type\":\"VBar\"},{\"attributes\":{},\"id\":\"23122bdd-0e1d-4275-b776-3d079c1e4eab\",\"type\":\"BasicTickFormatter\"},{\"attributes\":{\"data_source\":{\"id\":\"a773c752-f5d0-4d34-aaee-40e00ce4a682\",\"type\":\"ColumnDataSource\"},\"glyph\":{\"id\":\"6b9668eb-4e24-44b2-8476-9a774cd9a232\",\"type\":\"VBar\"},\"hover_glyph\":null,\"muted_glyph\":null,\"nonselection_glyph\":{\"id\":\"0d4390d3-37b9-4b7b-8ec1-316f4e6e0479\",\"type\":\"VBar\"},\"selection_glyph\":null,\"view\":{\"id\":\"2ff7ad1d-eb34-48bc-9777-5f3a5819b8d0\",\"type\":\"CDSView\"}},\"id\":\"d2c2f640-c1b6-4037-94eb-96e04c850267\",\"type\":\"GlyphRenderer\"},{\"attributes\":{\"bottom_units\":\"screen\",\"fill_alpha\":{\"value\":0.5},\"fill_color\":{\"value\":\"lightgrey\"},\"left_units\":\"screen\",\"level\":\"overlay\",\"line_alpha\":{\"value\":1.0},\"line_color\":{\"value\":\"black\"},\"line_dash\":[4,4],\"line_width\":{\"value\":2},\"plot\":null,\"render_mode\":\"css\",\"right_units\":\"screen\",\"top_units\":\"screen\"},\"id\":\"e9f6c18a-7003-4dca-9677-d3ca2d684920\",\"type\":\"BoxAnnotation\"},{\"attributes\":{\"source\":{\"id\":\"a773c752-f5d0-4d34-aaee-40e00ce4a682\",\"type\":\"ColumnDataSource\"}},\"id\":\"2ff7ad1d-eb34-48bc-9777-5f3a5819b8d0\",\"type\":\"CDSView\"},{\"attributes\":{},\"id\":\"bb7afd05-d7bd-446c-b7e9-d0096dad7a70\",\"type\":\"BasicTicker\"},{\"attributes\":{\"axis_label\":\"Time (s)\",\"formatter\":{\"id\":\"d7d2d2d6-ca58-4051-abcf-430846248301\",\"type\":\"BasicTickFormatter\"},\"plot\":{\"id\":\"678592de-bfff-4cf6-9794-fa3c7d8b86a1\",\"subtype\":\"Figure\",\"type\":\"Plot\"},\"ticker\":{\"id\":\"1a0010b0-f85f-43d1-805b-30080ba1370a\",\"type\":\"BasicTicker\"}},\"id\":\"62cbe8af-97ba-47e2-9e87-a5b335ba0436\",\"type\":\"LinearAxis\"},{\"attributes\":{\"callback\":null,\"data\":{\"x\":{\"__ndarray__\":\"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\",\"dtype\":\"float64\",\"shape\":[1000]},\"y\":{\"__ndarray__\":\"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\",\"dtype\":\"float64\",\"shape\":[1000]}},\"selected\":{\"id\":\"55478ae5-9f66-438f-ba2b-473d043f58a1\",\"type\":\"Selection\"},\"selection_policy\":{\"id\":\"9ebb992f-45ab-4689-8289-ad2badaf7c37\",\"type\":\"UnionRenderers\"}},\"id\":\"4a688ae6-54f2-4a38-8cd0-0eafb6e5fb2d\",\"type\":\"ColumnDataSource\"},{\"attributes\":{\"source\":{\"id\":\"4a688ae6-54f2-4a38-8cd0-0eafb6e5fb2d\",\"type\":\"ColumnDataSource\"}},\"id\":\"a242022c-0a83-401e-bf35-12c08e8b33d7\",\"type\":\"CDSView\"},{\"attributes\":{\"plot\":{\"id\":\"678592de-bfff-4cf6-9794-fa3c7d8b86a1\",\"subtype\":\"Figure\",\"type\":\"Plot\"},\"ticker\":{\"id\":\"1a0010b0-f85f-43d1-805b-30080ba1370a\",\"type\":\"BasicTicker\"}},\"id\":\"6636d90a-cc73-45ec-a7c4-24d823f0f6b2\",\"type\":\"Grid\"},{\"attributes\":{\"label\":{\"value\":\"v\"},\"renderers\":[{\"id\":\"8d49929f-0aeb-4fd0-8ec2-4bfdcebf52df\",\"type\":\"GlyphRenderer\"}]},\"id\":\"38a5a91b-e38c-49f8-866b-8fb2b81354e3\",\"type\":\"LegendItem\"},{\"attributes\":{\"callback\":null,\"data\":{\"bottom\":[-10],\"top\":[10],\"x\":[0]},\"selected\":{\"id\":\"a9f2977d-7498-4485-aebb-a52980ceae82\",\"type\":\"Selection\"},\"selection_policy\":{\"id\":\"016aa2b7-d097-48ec-ad19-db71d4eee935\",\"type\":\"UnionRenderers\"}},\"id\":\"a773c752-f5d0-4d34-aaee-40e00ce4a682\",\"type\":\"ColumnDataSource\"},{\"attributes\":{\"active_drag\":\"auto\",\"active_inspect\":\"auto\",\"active_multi\":null,\"active_scroll\":\"auto\",\"active_tap\":\"auto\",\"tools\":[{\"id\":\"852a17d6-ba6a-4b35-a4e8-88c208dbeed7\",\"type\":\"PanTool\"},{\"id\":\"bc48bc5d-b5a3-4e44-88ec-b2d64867acf6\",\"type\":\"WheelZoomTool\"},{\"id\":\"364a9593-5e3a-4197-9476-1f3452dd7c5d\",\"type\":\"BoxZoomTool\"},{\"id\":\"bab0bd18-21e5-457f-be4b-f1681a72a45f\",\"type\":\"SaveTool\"},{\"id\":\"75373e83-8e6b-41dd-b4ee-a970c84eb58e\",\"type\":\"ResetTool\"},{\"id\":\"9d18b50a-e3b0-41b4-a6dc-8eb0c0f46a12\",\"type\":\"HelpTool\"}]},\"id\":\"19831eed-2ddc-4899-b4ba-57208a95feb0\",\"type\":\"Toolbar\"},{\"attributes\":{\"dimension\":1,\"plot\":{\"id\":\"678592de-bfff-4cf6-9794-fa3c7d8b86a1\",\"subtype\":\"Figure\",\"type\":\"Plot\"},\"ticker\":{\"id\":\"bb7afd05-d7bd-446c-b7e9-d0096dad7a70\",\"type\":\"BasicTicker\"}},\"id\":\"9080baa1-c13e-4c1f-aff5-1f6ae553298a\",\"type\":\"Grid\"},{\"attributes\":{\"callback\":null,\"end\":15,\"start\":-15},\"id\":\"06e1cc24-98b6-449b-9560-ea163105c086\",\"type\":\"Range1d\"},{\"attributes\":{\"label\":{\"value\":\"x\"},\"renderers\":[{\"id\":\"0f7f1c0a-a302-4ca1-b327-7e50269232b8\",\"type\":\"GlyphRenderer\"}]},\"id\":\"7f3a4170-451c-4fae-8e07-c59fa9b86fde\",\"type\":\"LegendItem\"},{\"attributes\":{\"callback\":null,\"data\":{\"x\":{\"__ndarray__\":\"AAAAAAAAAABvIOsgXTeCP28g6yBdN5I/prBgsQtTmz9vIOsgXTeiP4voJWk0xaY/prBgsQtTqz/CeJv54uCvP28g6yBdN7I/fYQIxUh+tD+L6CVpNMW2P5lMQw0gDLk/prBgsQtTuz+0FH5V95m9P8J4m/ni4L8/aG7cTucTwT9vIOsgXTfCP3bS+fLSWsM/fYQIxUh+xD+ENheXvqHFP4voJWk0xcY/kpo0O6roxz+ZTEMNIAzJP6D+Ud+VL8o/prBgsQtTyz+tYm+DgXbMP7QUflX3mc0/u8aMJ229zj/CeJv54uDPP2UV1WUsgtA/aG7cTucT0T9sx+M3oqXRP28g6yBdN9I/cnnyCRjJ0j920vny0lrTP3krAdyN7NM/fYQIxUh+1D+A3Q+uAxDVP4Q2F5e+odU/h48egHkz1j+L6CVpNMXWP45BLVLvVtc/kpo0O6ro1z+V8zskZXrYP5lMQw0gDNk/nKVK9tqd2T+g/lHflS/aP6NXWchQwdo/prBgsQtT2z+qCWiaxuTbP61ib4OBdtw/sbt2bDwI3T+0FH5V95ndP7hthT6yK94/u8aMJ2293j+/H5QQKE/fP8J4m/ni4N8/42hR8U454D9lFdVlLILgP+bBWNoJy+A/aG7cTucT4T/qGmDDxFzhP2zH4zeipeE/7XNnrH/u4T9vIOsgXTfiP/HMbpU6gOI/cnnyCRjJ4j/0JXZ+9RHjP3bS+fLSWuM/+H59Z7Cj4z95KwHcjezjP/vXhFBrNeQ/fYQIxUh+5D//MIw5JsfkP4DdD64DEOU/AoqTIuFY5T+ENheXvqHlPwbjmguc6uU/h48egHkz5j8JPKL0VnzmP4voJWk0xeY/DJWp3REO5z+OQS1S71bnPxDusMbMn+c/kpo0O6ro5z8TR7ivhzHoP5XzOyRleug/F6C/mELD6D+ZTEMNIAzpPxr5xoH9VOk/nKVK9tqd6T8eUs5quObpP6D+Ud+VL+o/IavVU3N46j+jV1nIUMHqPyUE3TwuCus/prBgsQtT6z8oXeQl6ZvrP6oJaJrG5Os/LLbrDqQt7D+tYm+DgXbsPy8P8/dev+w/sbt2bDwI7T8zaPrgGVHtP7QUflX3me0/NsEBytTi7T+4bYU+sivuPzoaCbOPdO4/u8aMJ2297j89cxCcSgbvP78flBAoT+8/QcwXhQWY7z/CeJv54uDvP6KSDzfgFPA/42hR8U458D8kP5OrvV3wP2UV1WUsgvA/pesWIJum8D/mwVjaCcvwPyeYmpR47/A/aG7cTucT8T+pRB4JVjjxP+oaYMPEXPE/K/GhfTOB8T9sx+M3oqXxP6ydJfIQyvE/7XNnrH/u8T8uSqlm7hLyP28g6yBdN/I/sPYs28tb8j/xzG6VOoDyPzKjsE+ppPI/cnnyCRjJ8j+zTzTEhu3yP/Qldn71EfM/Nfy3OGQ28z920vny0lrzP7eoO61Bf/M/+H59Z7Cj8z85Vb8hH8jzP3krAdyN7PM/ugFDlvwQ9D/714RQazX0PzyuxgraWfQ/fYQIxUh+9D++Wkp/t6L0P/8wjDkmx/Q/PwfO85Tr9D+A3Q+uAxD1P8GzUWhyNPU/AoqTIuFY9T9DYNXcT331P4Q2F5e+ofU/xQxZUS3G9T8G45oLnOr1P0a53MUKD/Y/h48egHkz9j/IZWA66Ff2Pwk8ovRWfPY/ShLkrsWg9j+L6CVpNMX2P8y+ZyOj6fY/DJWp3REO9z9Na+uXgDL3P45BLVLvVvc/zxdvDF579z8Q7rDGzJ/3P1HE8oA7xPc/kpo0O6ro9z/TcHb1GA34PxNHuK+HMfg/VB36afZV+D+V8zskZXr4P9bJfd7Tnvg/F6C/mELD+D9YdgFTsef4P5lMQw0gDPk/2SKFx44w+T8a+caB/VT5P1vPCDxsefk/nKVK9tqd+T/de4ywScL5Px5Szmq45vk/XygQJScL+j+g/lHflS/6P+DUk5kEVPo/IavVU3N4+j9igRcO4pz6P6NXWchQwfo/5C2bgr/l+j8lBN08Lgr7P2baHvecLvs/prBgsQtT+z/nhqJrenf7Pyhd5CXpm/s/aTMm4FfA+z+qCWiaxuT7P+vfqVQ1Cfw/LLbrDqQt/D9tjC3JElL8P61ib4OBdvw/7jixPfCa/D8vD/P3Xr/8P3DlNLLN4/w/sbt2bDwI/T/ykbgmqyz9PzNo+uAZUf0/dD48m4h1/T+0FH5V95n9P/Xqvw9mvv0/NsEBytTi/T93l0OEQwf+P7hthT6yK/4/+UPH+CBQ/j86Ggmzj3T+P3rwSm3+mP4/u8aMJ229/j/8nM7h2+H+Pz1zEJxKBv8/fklSVrkq/z+/H5QQKE//PwD21cqWc/8/QcwXhQWY/z+Bolk/dLz/P8J4m/ni4P8/gqfu2agCAECikg834BQAQMJ9MJQXJwBA42hR8U45AEADVHJOhksAQCQ/k6u9XQBARCq0CPVvAEBlFdVlLIIAQIUA9sJjlABApesWIJumAEDG1jd90rgAQObBWNoJywBAB615N0HdAEAnmJqUeO8AQEiDu/GvAQFAaG7cTucTAUCIWf2rHiYBQKlEHglWOAFAyS8/Zo1KAUDqGmDDxFwBQAoGgSD8bgFAK/GhfTOBAUBL3MLaapMBQGzH4zeipQFAjLIEldm3AUCsnSXyEMoBQM2IRk9I3AFA7XNnrH/uAUAOX4gJtwACQC5KqWbuEgJATzXKwyUlAkBvIOsgXTcCQI8LDH6USQJAsPYs28tbAkDQ4U04A24CQPHMbpU6gAJAEbiP8nGSAkAyo7BPqaQCQFKO0azgtgJAcnnyCRjJAkCTZBNnT9sCQLNPNMSG7QJA1DpVIb7/AkD0JXZ+9REDQBURl9ssJANANfy3OGQ2A0BW59iVm0gDQHbS+fLSWgNAlr0aUAptA0C3qDutQX8DQNeTXAp5kQNA+H59Z7CjA0AYap7E57UDQDlVvyEfyANAWUDgflbaA0B5KwHcjewDQJoWIjnF/gNAugFDlvwQBEDb7GPzMyMEQPvXhFBrNQRAHMOlraJHBEA8rsYK2lkEQFyZ52cRbARAfYQIxUh+BECdbykigJAEQL5aSn+3ogRA3kVr3O60BED/MIw5JscEQB8crZZd2QRAPwfO85TrBEBg8u5QzP0EQIDdD64DEAVAocgwCzsiBUDBs1FocjQFQOKecsWpRgVAAoqTIuFYBUAjdbR/GGsFQENg1dxPfQVAY0v2OYePBUCENheXvqEFQKQhOPT1swVAxQxZUS3GBUDl93muZNgFQAbjmguc6gVAJs67aNP8BUBGudzFCg8GQGek/SJCIQZAh48egHkzBkCoej/dsEUGQMhlYDroVwZA6VCBlx9qBkAJPKL0VnwGQCknw1GOjgZAShLkrsWgBkBq/QQM/bIGQIvoJWk0xQZAq9NGxmvXBkDMvmcjo+kGQOypiIDa+wZADJWp3REOB0AtgMo6SSAHQE1r65eAMgdAblYM9bdEB0COQS1S71YHQK8sTq8maQdAzxdvDF57B0DwApBplY0HQBDusMbMnwdAMNnRIwSyB0BRxPKAO8QHQHGvE95y1gdAkpo0O6roB0CyhVWY4foHQNNwdvUYDQhA81uXUlAfCEATR7ivhzEIQDQy2Qy/QwhAVB36afZVCEB1CBvHLWgIQJXzOyRleghAtt5cgZyMCEDWyX3e054IQPa0njsLsQhAF6C/mELDCEA3i+D1edUIQFh2AVOx5whAeGEisOj5CECZTEMNIAwJQLk3ZGpXHglA2SKFx44wCUD6DaYkxkIJQBr5xoH9VAlAO+Tn3jRnCUBbzwg8bHkJQHy6KZmjiwlAnKVK9tqdCUC9kGtTErAJQN17jLBJwglA/WatDYHUCUAeUs5quOYJQD4978fv+AlAXygQJScLCkB/EzGCXh0KQKD+Ud+VLwpAwOlyPM1BCkDg1JOZBFQKQAHAtPY7ZgpAIavVU3N4CkBClvawqooKQGKBFw7inApAg2w4axmvCkCjV1nIUMEKQMNCeiWI0wpA5C2bgr/lCkAEGbzf9vcKQCUE3TwuCgtARe/9mWUcC0Bm2h73nC4LQIbFP1TUQAtAprBgsQtTC0DHm4EOQ2ULQOeGomt6dwtACHLDyLGJC0AoXeQl6ZsLQElIBYMgrgtAaTMm4FfAC0CKHkc9j9ILQKoJaJrG5AtAyvSI9/32C0Dr36lUNQkMQAvLyrFsGwxALLbrDqQtDEBMoQxs2z8MQG2MLckSUgxAjXdOJkpkDECtYm+DgXYMQM5NkOC4iAxA7jixPfCaDEAPJNKaJ60MQC8P8/devwxAUPoTVZbRDEBw5TSyzeMMQJDQVQ8F9gxAsbt2bDwIDUDRppfJcxoNQPKRuCarLA1AEn3Zg+I+DUAzaPrgGVENQFNTGz5RYw1AdD48m4h1DUCUKV34v4cNQLQUflX3mQ1A1f+esi6sDUD16r8PZr4NQBbW4Gyd0A1ANsEBytTiDUBXrCInDPUNQHeXQ4RDBw5Al4Jk4XoZDkC4bYU+sisOQNhYppvpPQ5A+UPH+CBQDkAZL+hVWGIOQDoaCbOPdA5AWgUqEMeGDkB68Ept/pgOQJvba8o1qw5Au8aMJ229DkDcsa2EpM8OQPyczuHb4Q5AHYjvPhP0DkA9cxCcSgYPQF1eMfmBGA9AfklSVrkqD0CeNHOz8DwPQL8flBAoTw9A3wq1bV9hD0AA9tXKlnMPQCDh9ifOhQ9AQcwXhQWYD0BhtzjiPKoPQIGiWT90vA9Aoo16nKvOD0DCeJv54uAPQONjvFYa8w9Agqfu2agCEEASHX+IxAsQQKKSDzfgFBBAMgig5fsdEEDCfTCUFycQQFPzwEIzMBBA42hR8U45EEBz3uGfakIQQANUck6GSxBAlMkC/aFUEEAkP5OrvV0QQLS0I1rZZhBARCq0CPVvEEDUn0S3EHkQQGUV1WUsghBA9YplFEiLEECFAPbCY5QQQBV2hnF/nRBApesWIJumEEA2YafOtq8QQMbWN33SuBBAVkzIK+7BEEDmwVjaCcsQQHc36Ygl1BBAB615N0HdEECXIgrmXOYQQCeYmpR47xBAtw0rQ5T4EEBIg7vxrwERQNj4S6DLChFAaG7cTucTEUD442z9Ah0RQIhZ/aseJhFAGc+NWjovEUCpRB4JVjgRQDm6rrdxQRFAyS8/Zo1KEUBapc8UqVMRQOoaYMPEXBFAepDwceBlEUAKBoEg/G4RQJp7Ec8XeBFAK/GhfTOBEUC7ZjIsT4oRQEvcwtpqkxFA21FTiYacEUBsx+M3oqURQPw8dOa9rhFAjLIEldm3EUAcKJVD9cARQKydJfIQyhFAPRO2oCzTEUDNiEZPSNwRQF3+1v1j5RFA7XNnrH/uEUB96fdam/cRQA5fiAm3ABJAntQYuNIJEkAuSqlm7hISQL6/ORUKHBJATzXKwyUlEkDfqlpyQS4SQG8g6yBdNxJA/5V7z3hAEkCPCwx+lEkSQCCBnCywUhJAsPYs28tbEkBAbL2J52QSQNDhTTgDbhJAYVfe5h53EkDxzG6VOoASQIFC/0NWiRJAEbiP8nGSEkChLSChjZsSQDKjsE+ppBJAwhhB/sStEkBSjtGs4LYSQOIDYlv8vxJAcnnyCRjJEkAD74K4M9ISQJNkE2dP2xJAI9qjFWvkEkCzTzTEhu0SQETFxHKi9hJA1DpVIb7/EkBksOXP2QgTQPQldn71ERNAhJsGLREbE0AVEZfbLCQTQKWGJ4pILRNANfy3OGQ2E0DFcUjnfz8TQFbn2JWbSBNA5lxpRLdRE0B20vny0loTQAZIiqHuYxNAlr0aUAptE0AnM6v+JXYTQLeoO61BfxNARx7MW12IE0DXk1wKeZETQGcJ7biUmhNA+H59Z7CjE0CI9A0WzKwTQBhqnsTntRNAqN8ucwO/E0A5Vb8hH8gTQMnKT9A60RNAWUDgflbaE0DptXAtcuMTQHkrAdyN7BNACqGRiqn1E0CaFiI5xf4TQCqMsufgBxRAugFDlvwQFEBKd9NEGBoUQNvsY/MzIxRAa2L0oU8sFED714RQazUUQItNFf+GPhRAHMOlraJHFECsODZcvlAUQDyuxgraWRRAzCNXufViFEBcmednEWwUQO0OeBYtdRRAfYQIxUh+FEAN+phzZIcUQJ1vKSKAkBRALuW50JuZFEC+Wkp/t6IUQE7Q2i3TqxRA3kVr3O60FEBuu/uKCr4UQP8wjDkmxxRAj6Yc6EHQFEAfHK2WXdkUQK+RPUV54hRAPwfO85TrFEDQfF6isPQUQGDy7lDM/RRA8Gd//+cGFUCA3Q+uAxAVQBFToFwfGRVAocgwCzsiFUAxPsG5VisVQMGzUWhyNBVAUSniFo49FUDinnLFqUYVQHIUA3TFTxVAAoqTIuFYFUCS/yPR/GEVQCN1tH8YaxVAs+pELjR0FUBDYNXcT30VQNPVZYtrhhVAY0v2OYePFUD0wIboopgVQIQ2F5e+oRVAFKynRdqqFUCkITj09bMVQDSXyKIRvRVAxQxZUS3GFUBVgun/SM8VQOX3ea5k2BVAdW0KXYDhFUAG45oLnOoVQJZYK7q38xVAJs67aNP8FUC2Q0wX7wUWQEa53MUKDxZA1y5tdCYYFkBnpP0iQiEWQPcZjtFdKhZAh48egHkzFkAXBa8ulTwWQKh6P92wRRZAOPDPi8xOFkDIZWA66FcWQFjb8OgDYRZA6VCBlx9qFkB5xhFGO3MWQAk8ovRWfBZAmbEyo3KFFkApJ8NRjo4WQLqcUwCqlxZAShLkrsWgFkDah3Rd4akWQGr9BAz9shZA+3KVuhi8FkCL6CVpNMUWQBtethdQzhZAq9NGxmvXFkA7Sdd0h+AWQMy+ZyOj6RZAXDT40b7yFkDsqYiA2vsWQHwfGS/2BBdADJWp3REOF0CdCjqMLRcXQC2AyjpJIBdAvfVa6WQpF0BNa+uXgDIXQN7ge0acOxdAblYM9bdEF0D+y5yj000XQI5BLVLvVhdAHre9AAtgF0CvLE6vJmkXQD+i3l1CchdAzxdvDF57F0Bfjf+6eYQXQPACkGmVjRdAgHggGLGWF0AQ7rDGzJ8XQKBjQXXoqBdAMNnRIwSyF0DBTmLSH7sXQFHE8oA7xBdA4TmDL1fNF0BxrxPectYXQAElpIyO3xdAkpo0O6roF0AiEMXpxfEXQLKFVZjh+hdAQvvlRv0DGEDTcHb1GA0YQGPmBqQ0FhhA81uXUlAfGECD0ScBbCgYQBNHuK+HMRhApLxIXqM6GEA0MtkMv0MYQMSnabvaTBhAVB36afZVGEDlkooYEl8YQHUIG8ctaBhABX6rdUlxGECV8zskZXoYQCVpzNKAgxhAtt5cgZyMGEBGVO0vuJUYQNbJfd7TnhhAZj8Oje+nGED2tJ47C7EYQIcqL+omuhhAF6C/mELDGECnFVBHXswYQDeL4PV51RhAyABxpJXeGEBYdgFTsecYQOjrkQHN8BhAeGEisOj5GEAI17JeBAMZQJlMQw0gDBlAKcLTuzsVGUC5N2RqVx4ZQEmt9BhzJxlA2SKFx44wGUBqmBV2qjkZQPoNpiTGQhlAioM20+FLGUAa+caB/VQZQKtuVzAZXhlAO+Tn3jRnGUDLWXiNUHAZQFvPCDxseRlA60SZ6oeCGUB8uimZo4sZQAwwuke/lBlAnKVK9tqdGUAsG9uk9qYZQL2Qa1MSsBlATQb8AS65GUDde4ywScIZQG3xHF9lyxlA/WatDYHUGUCO3D28nN0ZQB5Szmq45hlArsdeGdTvGUA+Pe/H7/gZQM6yf3YLAhpAXygQJScLGkDvnaDTQhQaQH8TMYJeHRpAD4nBMHomGkCg/lHflS8aQDB04o2xOBpAwOlyPM1BGkBQXwPr6EoaQODUk5kEVBpAcUokSCBdGkABwLT2O2YaQJE1RaVXbxpAIavVU3N4GkCyIGYCj4EaQEKW9rCqihpA0guHX8aTGkBigRcO4pwaQPL2p7z9pRpAg2w4axmvGkAT4sgZNbgaQKNXWchQwRpAM83pdmzKGkDDQnoliNMaQFS4CtSj3BpA5C2bgr/lGkB0oysx2+4aQAQZvN/29xpAlY5MjhIBG0AlBN08LgobQLV5betJExtARe/9mWUcG0DVZI5IgSUbQGbaHvecLhtA9k+vpbg3G0CGxT9U1EAbQBY70ALwSRtAprBgsQtTG0A3JvFfJ1wbQMebgQ5DZRtAVxESvV5uG0DnhqJrencbQHj8MhqWgBtACHLDyLGJG0CY51N3zZIbQChd5CXpmxtAuNJ01ASlG0BJSAWDIK4bQNm9lTE8txtAaTMm4FfAG0D5qLaOc8kbQIoeRz2P0htAGpTX66rbG0CqCWiaxuQbQDp/+Eji7RtAyvSI9/32G0BbahmmGQAcQOvfqVQ1CRxAe1U6A1ESHEALy8qxbBscQJtAW2CIJBxALLbrDqQtHEC8K3y9vzYcQEyhDGzbPxxA3BadGvdIHEBtjC3JElIcQP0BvncuWxxAjXdOJkpkHEAd7d7UZW0cQK1ib4OBdhxAPtj/MZ1/HEDOTZDguIgcQF7DII/UkRxA7jixPfCaHEB/rkHsC6QcQA8k0ponrRxAn5liSUO2HEAvD/P3Xr8cQL+Eg6Z6yBxAUPoTVZbRHEDgb6QDstocQHDlNLLN4xxAAFvFYOnsHECQ0FUPBfYcQCFG5r0g/xxAsbt2bDwIHUBBMQcbWBEdQNGml8lzGh1AYhwoeI8jHUDykbgmqywdQIIHSdXGNR1AEn3Zg+I+HUCi8mky/kcdQDNo+uAZUR1Aw92KjzVaHUBTUxs+UWMdQOPIq+xsbB1AdD48m4h1HUAEtMxJpH4dQJQpXfi/hx1AJJ/tptuQHUC0FH5V95kdQEWKDgQTox1A1f+esi6sHUBldS9hSrUdQPXqvw9mvh1AhWBQvoHHHUAW1uBsndAdQKZLcRu52R1ANsEBytTiHUDGNpJ48OsdQFesIicM9R1A5yGz1Sf+HUB3l0OEQwceQAcN1DJfEB5Al4Jk4XoZHkAo+PSPliIeQLhthT6yKx5ASOMV7c00HkDYWKab6T0eQGjONkoFRx5A+UPH+CBQHkCJuVenPFkeQBkv6FVYYh5AqaR4BHRrHkA6Ggmzj3QeQMqPmWGrfR5AWgUqEMeGHkDqerq+4o8eQHrwSm3+mB5AC2bbGxqiHkCb22vKNaseQCtR/HhRtB5Au8aMJ229HkBMPB3WiMYeQNyxrYSkzx5AbCc+M8DYHkD8nM7h2+EeQIwSX5D36h5AHYjvPhP0HkCt/X/tLv0eQD1zEJxKBh9AzeigSmYPH0BdXjH5gRgfQO7TwaedIR9AfklSVrkqH0AOv+IE1TMfQJ40c7PwPB9AL6oDYgxGH0C/H5QQKE8fQE+VJL9DWB9A3wq1bV9hH0BvgEUce2ofQAD21cqWcx9AkGtmebJ8H0Ag4fYnzoUfQLBWh9bpjh9AQcwXhQWYH0DRQagzIaEfQGG3OOI8qh9A8SzJkFizH0CBolk/dLwfQBIY6u2PxR9Aoo16nKvOH0AyAwtLx9cfQMJ4m/ni4B9AUu4rqP7pH0DjY7xWGvMfQHPZTAU2/B9Agqfu2agCIEBK4jaxNgcgQBIdf4jECyBA2lfHX1IQIECikg834BQgQGrNVw5uGSBAMgig5fsdIED6Qui8iSIgQMJ9MJQXJyBAi7h4a6UrIEBT88BCMzAgQBsuCRrBNCBA42hR8U45IECro5nI3D0gQHPe4Z9qQiBAOxkqd/hGIEADVHJOhksgQMuOuiUUUCBAlMkC/aFUIEBcBEvUL1kgQCQ/k6u9XSBA7HnbgktiIEC0tCNa2WYgQHzvazFnayBARCq0CPVvIEAMZfzfgnQgQNSfRLcQeSBAnNqMjp59IEBlFdVlLIIgQC1QHT26hiBA9YplFEiLIEC9xa3r1Y8gQIUA9sJjlCBATTs+mvGYIEAVdoZxf50gQN2wzkgNoiBApesWIJumIEBuJl/3KKsgQDZhp862ryBA/pvvpUS0IEDG1jd90rggQI4RgFRgvSBAVkzIK+7BIEAehxADfMYgQObBWNoJyyBArvygsZfPIEB3N+mIJdQgQD9yMWCz2CBAB615N0HdIEDP58EOz+EgQJciCuZc5iBAX11SverqIEAnmJqUeO8gQO/S4msG9CBAtw0rQ5T4IECASHMaIv0gQEiDu/GvASFAEL4DyT0GIUDY+EugywohQKAzlHdZDyFAaG7cTucTIUAwqSQmdRghQPjjbP0CHSFAwB611JAhIUCIWf2rHiYhQFGURYOsKiFAGc+NWjovIUDhCdYxyDMhQKlEHglWOCFAcX9m4OM8IUA5uq63cUEhQAH19o7/RSFAyS8/Zo1KIUCRaoc9G08hQFqlzxSpUyFAIuAX7DZYIUDqGmDDxFwhQLJVqJpSYSFAepDwceBlIUBCyzhJbmohQAoGgSD8biFA0kDJ94lzIUCaexHPF3ghQGO2WaalfCFAK/GhfTOBIUDzK+pUwYUhQLtmMixPiiFAg6F6A92OIUBL3MLaapMhQBMXC7L4lyFA21FTiYacIUCjjJtgFKEhQGzH4zeipSFANAIsDzCqIUD8PHTmva4hQMR3vL1LsyFAjLIEldm3IUBU7UxsZ7whQBwolUP1wCFA5GLdGoPFIUA=\",\"dtype\":\"float64\",\"shape\":[1000]},\"y\":{\"__ndarray__\":\"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\",\"dtype\":\"float64\",\"shape\":[1000]}},\"selected\":{\"id\":\"9f8ee947-e07f-477c-b7fb-34e8e5fe7afb\",\"type\":\"Selection\"},\"selection_policy\":{\"id\":\"134b0180-2d0f-4ddf-beae-f5969bde601f\",\"type\":\"UnionRenderers\"}},\"id\":\"841435ef-3385-43fa-b513-c917dcafac68\",\"type\":\"ColumnDataSource\"},{\"attributes\":{\"line_alpha\":0.1,\"line_color\":\"#1f77b4\",\"x\":{\"field\":\"x\"},\"y\":{\"field\":\"y\"}},\"id\":\"7253d0f7-bcbc-4a8f-b68b-ab330d49f57c\",\"type\":\"Line\"},{\"attributes\":{},\"id\":\"bc48bc5d-b5a3-4e44-88ec-b2d64867acf6\",\"type\":\"WheelZoomTool\"},{\"attributes\":{\"source\":{\"id\":\"841435ef-3385-43fa-b513-c917dcafac68\",\"type\":\"ColumnDataSource\"}},\"id\":\"bea6f6b5-f967-4afa-977a-a06677be4a7a\",\"type\":\"CDSView\"},{\"attributes\":{\"bottom\":{\"field\":\"bottom\"},\"fill_alpha\":{\"value\":0.1},\"fill_color\":{\"value\":\"#1f77b4\"},\"line_alpha\":{\"value\":0.1},\"line_color\":{\"value\":\"#1f77b4\"},\"top\":{\"field\":\"top\"},\"width\":{\"value\":0.05},\"x\":{\"field\":\"x\"}},\"id\":\"0d4390d3-37b9-4b7b-8ec1-316f4e6e0479\",\"type\":\"VBar\"},{\"attributes\":{\"formatter\":{\"id\":\"23122bdd-0e1d-4275-b776-3d079c1e4eab\",\"type\":\"BasicTickFormatter\"},\"plot\":{\"id\":\"678592de-bfff-4cf6-9794-fa3c7d8b86a1\",\"subtype\":\"Figure\",\"type\":\"Plot\"},\"ticker\":{\"id\":\"bb7afd05-d7bd-446c-b7e9-d0096dad7a70\",\"type\":\"BasicTicker\"}},\"id\":\"c01e6a5f-544a-4850-94ce-4373b689619b\",\"type\":\"LinearAxis\"},{\"attributes\":{},\"id\":\"852a17d6-ba6a-4b35-a4e8-88c208dbeed7\",\"type\":\"PanTool\"},{\"attributes\":{},\"id\":\"1a0010b0-f85f-43d1-805b-30080ba1370a\",\"type\":\"BasicTicker\"},{\"attributes\":{\"data_source\":{\"id\":\"4a688ae6-54f2-4a38-8cd0-0eafb6e5fb2d\",\"type\":\"ColumnDataSource\"},\"glyph\":{\"id\":\"1d97cf8e-c070-4ea3-891f-013f5b1d26ac\",\"type\":\"Line\"},\"hover_glyph\":null,\"muted_glyph\":null,\"nonselection_glyph\":{\"id\":\"7253d0f7-bcbc-4a8f-b68b-ab330d49f57c\",\"type\":\"Line\"},\"selection_glyph\":null,\"view\":{\"id\":\"a242022c-0a83-401e-bf35-12c08e8b33d7\",\"type\":\"CDSView\"}},\"id\":\"8d49929f-0aeb-4fd0-8ec2-4bfdcebf52df\",\"type\":\"GlyphRenderer\"},{\"attributes\":{\"overlay\":{\"id\":\"e9f6c18a-7003-4dca-9677-d3ca2d684920\",\"type\":\"BoxAnnotation\"}},\"id\":\"364a9593-5e3a-4197-9476-1f3452dd7c5d\",\"type\":\"BoxZoomTool\"},{\"attributes\":{\"data_source\":{\"id\":\"841435ef-3385-43fa-b513-c917dcafac68\",\"type\":\"ColumnDataSource\"},\"glyph\":{\"id\":\"410e4392-2834-4c90-aa22-e8158721d309\",\"type\":\"Line\"},\"hover_glyph\":null,\"muted_glyph\":null,\"nonselection_glyph\":{\"id\":\"0430eb72-a022-4c3b-a3ba-745a0c9311f6\",\"type\":\"Line\"},\"selection_glyph\":null,\"view\":{\"id\":\"bea6f6b5-f967-4afa-977a-a06677be4a7a\",\"type\":\"CDSView\"}},\"id\":\"0f7f1c0a-a302-4ca1-b327-7e50269232b8\",\"type\":\"GlyphRenderer\"},{\"attributes\":{\"line_alpha\":0.1,\"line_color\":\"#1f77b4\",\"x\":{\"field\":\"x\"},\"y\":{\"field\":\"y\"}},\"id\":\"0430eb72-a022-4c3b-a3ba-745a0c9311f6\",\"type\":\"Line\"},{\"attributes\":{},\"id\":\"134b0180-2d0f-4ddf-beae-f5969bde601f\",\"type\":\"UnionRenderers\"},{\"attributes\":{},\"id\":\"bab0bd18-21e5-457f-be4b-f1681a72a45f\",\"type\":\"SaveTool\"},{\"attributes\":{\"callback\":null},\"id\":\"f63a2ed7-cfb9-4fe2-9410-edce306722ea\",\"type\":\"DataRange1d\"},{\"attributes\":{},\"id\":\"9d18b50a-e3b0-41b4-a6dc-8eb0c0f46a12\",\"type\":\"HelpTool\"},{\"attributes\":{\"line_color\":\"red\",\"x\":{\"field\":\"x\"},\"y\":{\"field\":\"y\"}},\"id\":\"1d97cf8e-c070-4ea3-891f-013f5b1d26ac\",\"type\":\"Line\"},{\"attributes\":{\"line_color\":\"#1f77b4\",\"x\":{\"field\":\"x\"},\"y\":{\"field\":\"y\"}},\"id\":\"410e4392-2834-4c90-aa22-e8158721d309\",\"type\":\"Line\"},{\"attributes\":{},\"id\":\"9ebb992f-45ab-4689-8289-ad2badaf7c37\",\"type\":\"UnionRenderers\"},{\"attributes\":{},\"id\":\"016aa2b7-d097-48ec-ad19-db71d4eee935\",\"type\":\"UnionRenderers\"},{\"attributes\":{\"items\":[{\"id\":\"7f3a4170-451c-4fae-8e07-c59fa9b86fde\",\"type\":\"LegendItem\"},{\"id\":\"38a5a91b-e38c-49f8-866b-8fb2b81354e3\",\"type\":\"LegendItem\"}],\"plot\":{\"id\":\"678592de-bfff-4cf6-9794-fa3c7d8b86a1\",\"subtype\":\"Figure\",\"type\":\"Plot\"}},\"id\":\"008129fd-a1af-4b0f-a2b6-1bd0f579784d\",\"type\":\"Legend\"},{\"attributes\":{},\"id\":\"a87eb5d5-527e-4268-83d6-82fd0ff60ebb\",\"type\":\"LinearScale\"},{\"attributes\":{},\"id\":\"9f8ee947-e07f-477c-b7fb-34e8e5fe7afb\",\"type\":\"Selection\"},{\"attributes\":{},\"id\":\"75373e83-8e6b-41dd-b4ee-a970c84eb58e\",\"type\":\"ResetTool\"},{\"attributes\":{},\"id\":\"d7d2d2d6-ca58-4051-abcf-430846248301\",\"type\":\"BasicTickFormatter\"}],\"root_ids\":[\"678592de-bfff-4cf6-9794-fa3c7d8b86a1\"]},\"title\":\"Bokeh Application\",\"version\":\"0.13.0\"}};\n",
       "  var render_items = [{\"docid\":\"c1342319-546c-426a-87ff-f3ca253ba775\",\"roots\":{\"678592de-bfff-4cf6-9794-fa3c7d8b86a1\":\"4b4f8b8c-29b1-4466-90e7-733a754debcb\"}}];\n",
       "  root.Bokeh.embed.embed_items_notebook(docs_json, render_items);\n",
       "\n",
       "  }\n",
       "  if (root.Bokeh !== undefined) {\n",
       "    embed_document(root);\n",
       "  } else {\n",
       "    var attempts = 0;\n",
       "    var timer = setInterval(function(root) {\n",
       "      if (root.Bokeh !== undefined) {\n",
       "        embed_document(root);\n",
       "        clearInterval(timer);\n",
       "      }\n",
       "      attempts++;\n",
       "      if (attempts > 100) {\n",
       "        console.log(\"Bokeh: ERROR: Unable to run BokehJS code because BokehJS library is missing\")\n",
       "        clearInterval(timer);\n",
       "      }\n",
       "    }, 10, root)\n",
       "  }\n",
       "})(window);"
      ],
      "application/vnd.bokehjs_exec.v0+json": ""
     },
     "metadata": {
      "application/vnd.bokehjs_exec.v0+json": {
       "id": "678592de-bfff-4cf6-9794-fa3c7d8b86a1"
      }
     },
     "output_type": "display_data"
    }
   ],
   "source": [
    "## let's give some values to m and k and plot the postion and speed as a function of time\n",
    "m=1.\n",
    "k=2\n",
    "T = 2*np.pi*np.sqrt(m/k) ## the period\n",
    "t = np.linspace(0,2*T,1000)\n",
    "x_arr = x(m,k,t)\n",
    "v_arr = v(m,k,t)\n",
    "\n",
    "plot = figure(plot_height=300,plot_width=800,y_range=(-15,15))\n",
    "plot.line(t,x_arr,legend='x')\n",
    "plot.line(t,v_arr,color='red',legend='v')\n",
    "plot.vbar([0],0.05,[10],[-10],color='black')\n",
    "plot.xaxis.axis_label = 'Time (s)'\n",
    "show(plot)"
   ]
  },
  {
   "cell_type": "markdown",
   "metadata": {},
   "source": [
    "Finally lets visualize it. In the following you can change the value of mass and spring constant and observe how the ball oscillates with time. The speed and frequency are also shown at each time."
   ]
  },
  {
   "cell_type": "code",
   "execution_count": 12,
   "metadata": {
    "scrolled": true
   },
   "outputs": [
    {
     "data": {
      "application/vnd.bokehjs_exec.v0+json": "",
      "text/html": [
       "\n",
       "<script src=\"http://localhost:62752/autoload.js?bokeh-autoload-element=a238a706-8e09-492a-a649-c3da15316afd&bokeh-absolute-url=http://localhost:62752&resources=none\" id=\"a238a706-8e09-492a-a649-c3da15316afd\"></script>"
      ]
     },
     "metadata": {
      "application/vnd.bokehjs_exec.v0+json": {
       "server_id": "b1d9b7d93d6649c1a47ea242ea9d6e84"
      }
     },
     "output_type": "display_data"
    }
   ],
   "source": [
    "def modifydoc(doc):\n",
    "    \n",
    "    m = Slider(title='mass (kg)',value=1,start=1,end=10,step=1)\n",
    "    k = Slider(title='spring constant (N/m)',value=2,start=1,end=10,step=1)\n",
    "    button = Button(label='run')\n",
    "    paragraph = Paragraph()\n",
    "    paragraph2 = Paragraph()\n",
    "    paragraph3 = Paragraph()\n",
    "    source = ColumnDataSource(data=dict(x=[x(m.value,k.value,0)],v=[v(m.value,k.value,0)]))\n",
    "\n",
    "    plot2 = figure(plot_height=300,plot_width=600,x_range=(-15,15),y_range=(-2,2))\n",
    "    plot2.vbar([0],0.05,[5],[-5],color='black')\n",
    "    plot2.circle('x',0,source=source,size=15,color='green')\n",
    "    plot2.hbar(0,0.01,'x',0,source=source)        \n",
    "    plot2.xaxis.axis_label = 'position'\n",
    "    \n",
    "    \n",
    "#     def update_data(attr, old, new): \n",
    "#         data=dict(\n",
    "#             x=[x(m.value,k.value,t_)],\n",
    "#             v=[v(m.value,k.value,t_)]\n",
    "#         )\n",
    "#         source.data = data\n",
    "\n",
    "#     for i in [m,k]:\n",
    "#         i.on_change('value',update_data)\n",
    "\n",
    "    def update(): \n",
    "        deltaT = 0.01 # seconds\n",
    "        EndTime = 10 # seconds\n",
    "        Nloops = EndTime/deltaT\n",
    "        ts = np.linspace(0,EndTime,int(Nloops))    \n",
    "        for t_ in ts:\n",
    "            data=dict(\n",
    "                x=[x(m.value,k.value,t_)],\n",
    "                v=[v(m.value,k.value,t_)]\n",
    "            )\n",
    "            source.data = data\n",
    "            paragraph.text  = \"\\n time (s): %g\"%(t_)\n",
    "            paragraph2.text = \"speed (m/s): %g\"%(v(m.value,k.value,t_))\n",
    "            paragraph3.text = \"frequency (1/s): %g\"%(np.sqrt(float(k.value)/m.value)/(2*np.pi))\n",
    "            \n",
    "\n",
    "            \n",
    "    button.on_click(update)\n",
    "    doc.add_root(row(widgetbox(m,k,button,paragraph,paragraph2,paragraph3),plot2))\n",
    "    \n",
    "show(modifydoc)"
   ]
  }
 ],
 "metadata": {
  "kernelspec": {
   "display_name": "Python [default]",
   "language": "python",
   "name": "python2"
  },
  "language_info": {
   "codemirror_mode": {
    "name": "ipython",
    "version": 2
   },
   "file_extension": ".py",
   "mimetype": "text/x-python",
   "name": "python",
   "nbconvert_exporter": "python",
   "pygments_lexer": "ipython2",
   "version": "2.7.13"
  }
 },
 "nbformat": 4,
 "nbformat_minor": 2
}
